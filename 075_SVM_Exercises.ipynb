{
 "cells": [
  {
   "cell_type": "markdown",
   "metadata": {},
   "source": [
    "# Exercises\n",
    "\n",
    "In this section we have two exercises:\n",
    "1. Implement the polynomial kernel.\n",
    "2. Implement the multiclass C-SVM."
   ]
  },
  {
   "cell_type": "markdown",
   "metadata": {},
   "source": [
    "## Polynomial kernel\n",
    "\n",
    "You need to extend the ``build_kernel`` function and implement the polynomial kernel if the ``kernel_type`` is set to 'poly'. The equation that needs to be implemented:\n",
    "\\begin{equation}\n",
    "K=(X^{T}*Y)^{d}.\n",
    "\\end{equation}"
   ]
  },
  {
   "cell_type": "code",
   "execution_count": 1,
   "metadata": {},
   "outputs": [],
   "source": [
    "def build_kernel(data_set, kernel_type='linear', d_poly_exponential=1):\n",
    "    kernel = np.dot(data_set, data_set.T)\n",
    "    if kernel_type == 'rbf':\n",
    "        sigma = 1.0\n",
    "        objects_count = len(data_set)\n",
    "        b = np.ones((len(data_set), 1))\n",
    "        kernel -= 0.5 * (np.dot((np.diag(kernel)*np.ones((1, objects_count))).T, b.T)\n",
    "                         + np.dot(b, (np.diag(kernel) * np.ones((1, objects_count))).T.T))\n",
    "        kernel = np.exp(kernel / (2. * sigma ** 2))\n",
    "    elif kernel_type == 'poly':\n",
    "        kernel = np.power(np.dot(data_set, data_set.T), d_poly_exponential)\n",
    "        #the formula given in the task is wrong, should be K_ij = (x^T x)_{ij}^d, otherwise it is not a matrix. \n",
    "        #In particular\n",
    "    return kernel"
   ]
  },
  {
   "cell_type": "markdown",
   "metadata": {},
   "source": [
    "The formula given in the task is wrong, should be $K_{ij} = ((x^T x)_{ij})^d$, otherwise it is not a matrix, and at first sight it is not obvious that d is the power applied elementwise and not a multiplication of matrices. "
   ]
  },
  {
   "cell_type": "markdown",
   "metadata": {},
   "source": [
    "## Implement a multiclass C-SVM\n",
    "\n",
    "Use the classification method that we used in notebook 7.3 and IRIS dataset to build a multiclass C-SVM classifier. Most implementation is about a function that will return the proper data set that need to be used for the prediction. You need to implement:\n",
    "- ``choose_set_for_label``\n",
    "- ``get_labels_count``"
   ]
  },
  {
   "cell_type": "code",
   "execution_count": 84,
   "metadata": {},
   "outputs": [],
   "source": [
    "def choose_set_for_label(data_set, label, labels):\n",
    "    # your code here\n",
    "    #ONE VERSUS ALL METHOD\n",
    "    labels_local = np.copy(labels)\n",
    "    \n",
    "    labels_local[labels!=label] = -1\n",
    "    labels_local[labels==label] = 1\n",
    "\n",
    "    train_data_set, test_data_set, train_labels, test_labels = train_test_split(\n",
    "        data_set, labels_local, test_size=0.2, random_state=10) \n",
    "    #every invokation the test and train sets are based on the same datapoints\n",
    "\n",
    "    return train_data_set, test_data_set, train_labels, test_labels"
   ]
  },
  {
   "cell_type": "code",
   "execution_count": 85,
   "metadata": {},
   "outputs": [],
   "source": [
    "def get_labels_count(labels):\n",
    "    labels_count = len(np.unique(labels))\n",
    "    #in fact I don't know what this function should do\n",
    "    return labels_count"
   ]
  },
  {
   "cell_type": "markdown",
   "metadata": {},
   "source": [
    "Use the code that we have implemented earlier:"
   ]
  },
  {
   "cell_type": "code",
   "execution_count": 86,
   "metadata": {},
   "outputs": [],
   "source": [
    "def train(train_data_set, train_labels, kernel_type='linear', C=10, threshold=1e-5):\n",
    "    kernel = build_kernel(train_data_set, kernel_type=kernel_type)\n",
    "    objects_count = len(train_labels)\n",
    "\n",
    "    P = train_labels * train_labels.transpose() * kernel\n",
    "    q = -np.ones((objects_count, 1))\n",
    "    G = np.concatenate((np.eye(objects_count), -np.eye(objects_count)))\n",
    "    h = np.concatenate((C * np.ones((objects_count, 1)), np.zeros((objects_count, 1))))\n",
    "\n",
    "    A = train_labels.reshape(1, objects_count)\n",
    "    A = A.astype(float)\n",
    "    b = 0.0\n",
    "\n",
    "    sol = cvxopt.solvers.qp(cvxopt.matrix(P), cvxopt.matrix(q), cvxopt.matrix(G), cvxopt.matrix(h), cvxopt.matrix(A), cvxopt.matrix(b))\n",
    "\n",
    "    lambdas = np.array(sol['x'])\n",
    "\n",
    "    support_vectors_id = np.where(lambdas > threshold)[0]\n",
    "    vector_number = len(support_vectors_id)\n",
    "    support_vectors = train_data_set[support_vectors_id, :]\n",
    "\n",
    "    lambdas = lambdas[support_vectors_id]\n",
    "    targets = train_labels[support_vectors_id]\n",
    "\n",
    "    b = np.sum(targets)\n",
    "    for n in range(vector_number):\n",
    "        b -= np.sum(lambdas * targets * np.reshape(kernel[support_vectors_id[n], support_vectors_id], (vector_number, 1)))\n",
    "    b /= len(lambdas)\n",
    "\n",
    "    return lambdas, support_vectors, support_vectors_id, b, targets, vector_number\n",
    "\n",
    "def build_kernel(data_set, kernel_type='linear'):\n",
    "    kernel = np.dot(data_set, data_set.T)\n",
    "    if kernel_type == 'rbf':\n",
    "        sigma = 1.0\n",
    "        objects_count = len(data_set)\n",
    "        b = np.ones((len(data_set), 1))\n",
    "        kernel -= 0.5 * (np.dot((np.diag(kernel)*np.ones((1, objects_count))).T, b.T)\n",
    "                         + np.dot(b, (np.diag(kernel) * np.ones((1, objects_count))).T.T))\n",
    "        kernel = np.exp(kernel / (2. * sigma ** 2))\n",
    "    return kernel\n",
    "\n",
    "def classify_rbf(test_data_set, train_data_set, lambdas, targets, b, vector_number, support_vectors, support_vectors_id):\n",
    "    kernel = np.dot(test_data_set, support_vectors.T)\n",
    "    sigma = 1.0\n",
    "    c = (1. / sigma * np.sum(test_data_set ** 2, axis=1) * np.ones((1, np.shape(test_data_set)[0]))).T\n",
    "    c = np.dot(c, np.ones((1, np.shape(kernel)[1])))\n",
    "    sv = (np.diag(np.dot(train_data_set, train_data_set.T))*np.ones((1,len(train_data_set)))).T[support_vectors_id]\n",
    "    aa = np.dot(sv,np.ones((1,np.shape(kernel)[0]))).T\n",
    "    kernel = kernel - 0.5 * c - 0.5 * aa\n",
    "    kernel = np.exp(kernel / (2. * sigma ** 2))\n",
    "\n",
    "    y = np.zeros((np.shape(test_data_set)[0], 1))\n",
    "    for j in range(np.shape(test_data_set)[0]):\n",
    "        for i in range(vector_number):\n",
    "            y[j] += lambdas[i] * targets[i] * kernel[j, i]\n",
    "        y[j] += b\n",
    "    return np.sign(y)"
   ]
  },
  {
   "cell_type": "code",
   "execution_count": 87,
   "metadata": {},
   "outputs": [
    {
     "name": "stdout",
     "output_type": "stream",
     "text": [
      "     pcost       dcost       gap    pres   dres\n",
      " 0:  1.1709e+02 -1.8305e+03  4e+03  2e-01  2e-15\n",
      " 1:  7.8677e+01 -1.7328e+02  3e+02  6e-03  3e-15\n",
      " 2:  1.0363e+01 -2.2583e+01  3e+01  1e-15  3e-15\n",
      " 3: -4.6904e-01 -5.0369e+00  5e+00  5e-16  2e-15\n",
      " 4: -1.4254e+00 -2.5039e+00  1e+00  2e-16  5e-16\n",
      " 5: -1.6760e+00 -2.1752e+00  5e-01  2e-16  3e-16\n",
      " 6: -1.8059e+00 -2.0041e+00  2e-01  2e-16  3e-16\n",
      " 7: -1.8649e+00 -1.9581e+00  9e-02  4e-16  3e-16\n",
      " 8: -1.8911e+00 -1.8991e+00  8e-03  5e-16  3e-16\n",
      " 9: -1.8944e+00 -1.8945e+00  1e-04  2e-16  3e-16\n",
      "10: -1.8945e+00 -1.8945e+00  2e-06  7e-16  3e-16\n",
      "11: -1.8945e+00 -1.8945e+00  4e-08  8e-16  3e-16\n",
      "Optimal solution found.\n",
      "     pcost       dcost       gap    pres   dres\n",
      " 0:  1.1393e+02 -2.4094e+03  5e+03  2e-01  2e-15\n",
      " 1:  9.0906e+01 -2.1667e+02  4e+02  6e-03  3e-15\n",
      " 2:  1.2607e+01 -2.5542e+01  4e+01  3e-05  4e-15\n",
      " 3: -1.4285e-01 -5.4680e+00  5e+00  2e-16  2e-15\n",
      " 4: -1.3471e+00 -2.2723e+00  9e-01  4e-16  6e-16\n",
      " 5: -1.5481e+00 -1.9653e+00  4e-01  4e-16  3e-16\n",
      " 6: -1.6955e+00 -1.8535e+00  2e-01  2e-16  3e-16\n",
      " 7: -1.7530e+00 -1.7834e+00  3e-02  2e-16  3e-16\n",
      " 8: -1.7641e+00 -1.7652e+00  1e-03  2e-16  4e-16\n",
      " 9: -1.7646e+00 -1.7646e+00  5e-05  3e-16  3e-16\n",
      "10: -1.7646e+00 -1.7646e+00  6e-07  2e-16  4e-16\n",
      "Optimal solution found.\n",
      "     pcost       dcost       gap    pres   dres\n",
      " 0:  1.2192e+02 -2.1469e+03  4e+03  2e-01  2e-15\n",
      " 1:  8.9095e+01 -1.9164e+02  3e+02  5e-03  3e-15\n",
      " 2:  1.1499e+01 -2.4690e+01  4e+01  1e-15  3e-15\n",
      " 3: -4.4152e-01 -5.4626e+00  5e+00  2e-16  2e-15\n",
      " 4: -1.5473e+00 -2.4396e+00  9e-01  2e-16  5e-16\n",
      " 5: -1.8594e+00 -2.3047e+00  4e-01  3e-16  4e-16\n",
      " 6: -1.9272e+00 -2.0698e+00  1e-01  1e-16  3e-16\n",
      " 7: -1.9629e+00 -1.9854e+00  2e-02  1e-15  3e-16\n",
      " 8: -1.9707e+00 -1.9714e+00  7e-04  6e-16  3e-16\n",
      " 9: -1.9710e+00 -1.9710e+00  2e-05  2e-16  3e-16\n",
      "10: -1.9710e+00 -1.9710e+00  2e-07  4e-16  3e-16\n",
      "Optimal solution found.\n",
      "Prediction on test data:  [2. 2. 0. 2. 0. 2. 2. 2. 0. 2. 2. 2. 2. 0. 0. 2. 2. 0. 0. 0. 2. 2. 2. 0.\n",
      " 2. 0. 2. 2. 2. 2.]\n",
      "True test data:  [1 2 0 1 0 1 1 1 0 1 1 2 1 0 0 2 1 0 0 0 2 2 2 0 1 0 1 1 1 2]\n",
      "Accuracy:  0.5666666666666667\n"
     ]
    }
   ],
   "source": [
    "from sklearn.datasets import load_iris\n",
    "import numpy as np\n",
    "from sklearn.model_selection import train_test_split\n",
    "import cvxopt\n",
    "from sklearn.metrics import accuracy_score\n",
    "\n",
    "iris = load_iris()\n",
    "data_set = iris.data\n",
    "labels = iris.target\n",
    "\n",
    "\n",
    "train_data_set_all, test_data_set_all, train_labels_all, test_labels_all = train_test_split(\n",
    "        data_set, labels, test_size=0.2, random_state=10) \n",
    "\n",
    "(train_data_set, test_data_set, train_labels, test_labels) = choose_set_for_label(data_set, labels[0], labels)\n",
    "predicted_one_vs_all = np.empty((0, len(test_labels)))\n",
    "\n",
    "for label in np.unique(labels):\n",
    "    # modify this part \n",
    "    (train_data_set, test_data_set, train_labels, test_labels) = choose_set_for_label(data_set, label, labels)\n",
    "    lambdas, support_vectors, support_vectors_id, b, targets, vector_number = train(train_data_set, train_labels, kernel_type='rbf')\n",
    "    pred_rbf = classify_rbf(test_data_set, train_data_set, lambdas, targets, b, vector_number, support_vectors, support_vectors_id)\n",
    "    pred_rbf = pred_rbf.astype(int)\n",
    "    #print(accuracy_score(pred_rbf, test_labels))\n",
    "    predicted_one_vs_all = np.vstack((predicted_one_vs_all, np.ndarray.flatten(pred_rbf)))\n",
    "\n",
    "    \n",
    "\n",
    "#ONE VS ALL VOTING\n",
    "#if we have only three classes, then one vs all voting is simply selecting the class \n",
    "#that was classified as 1 and not -1. If there is for example three 1's for all three labels,\n",
    "#the choice should be random. Here we select the third \"3\" label by deafult in such case. \n",
    "#If we have three -1's, the first class \"0\" wins by default. \n",
    "#The second label is selected if we have for example (1,1,-1) predictions.\n",
    "\n",
    "predicted = np.zeros((len(predicted_one_vs_all[0])))\n",
    "for label_idx, predicted_label_vs_all in enumerate(predicted_one_vs_all):\n",
    "    label = np.unique(labels)[label_idx]\n",
    "    predicted[predicted_label_vs_all > -1] = label\n",
    "    #print((label,predicted_label_vs_all))\n",
    "\n",
    "    \n",
    "print(\"Prediction on test data: \", predicted)\n",
    "print(\"True test data: \", test_labels_all)\n",
    "print(\"Accuracy: \", accuracy_score(predicted, test_labels_all))"
   ]
  },
  {
   "cell_type": "markdown",
   "metadata": {},
   "source": [
    "\n",
    "The resulting accuracy 56.6% is better than just guessing (33.3%).\n"
   ]
  }
 ],
 "metadata": {
  "kernelspec": {
   "display_name": "Python 3",
   "language": "python",
   "name": "python3"
  },
  "language_info": {
   "codemirror_mode": {
    "name": "ipython",
    "version": 3
   },
   "file_extension": ".py",
   "mimetype": "text/x-python",
   "name": "python",
   "nbconvert_exporter": "python",
   "pygments_lexer": "ipython3",
   "version": "3.7.3"
  }
 },
 "nbformat": 4,
 "nbformat_minor": 2
}

{
 "cells": [
  {
   "cell_type": "markdown",
   "metadata": {},
   "source": [
    "# Ensemble methods. Exercises\n",
    "\n",
    "\n",
    "In this section we have only one exercise:\n",
    "\n",
    "1. Find the best three classifier in the stacking method using the classifiers from scikit-learn package, such as:\n",
    "\n",
    "\n",
    "* Linear regression,\n",
    "* Nearest Neighbors,\n",
    "* Linear SVM,\n",
    "* Decision Tree,\n",
    "* Naive Bayes,\n",
    "* QDA."
   ]
  },
  {
   "cell_type": "code",
   "execution_count": 1,
   "metadata": {},
   "outputs": [],
   "source": [
    "%store -r data_set\n",
    "%store -r labels\n",
    "%store -r test_data_set\n",
    "%store -r test_labels\n",
    "%store -r unique_labels"
   ]
  },
  {
   "cell_type": "markdown",
   "metadata": {},
   "source": [
    "## Exercise 1: Find the best three classifier in the stacking method"
   ]
  },
  {
   "cell_type": "code",
   "execution_count": 2,
   "metadata": {},
   "outputs": [],
   "source": [
    "import numpy as np\n",
    "from sklearn.metrics import accuracy_score\n",
    "\n",
    "from sklearn.linear_model import LinearRegression\n",
    "from sklearn.neighbors import KNeighborsClassifier\n",
    "from sklearn.svm import SVC\n",
    "from sklearn.tree import DecisionTreeClassifier\n",
    "from sklearn.naive_bayes import GaussianNB\n",
    "from sklearn.discriminant_analysis import QuadraticDiscriminantAnalysis\n",
    "\n",
    "import itertools"
   ]
  },
  {
   "cell_type": "code",
   "execution_count": 3,
   "metadata": {},
   "outputs": [],
   "source": [
    "def build_classifiers():\n",
    "    \n",
    "    # fill this part\n",
    "    linear_regression = LinearRegression()\n",
    "    linear_regression.fit(data_set, labels)\n",
    "    \n",
    "    neighbors = KNeighborsClassifier(3)\n",
    "    neighbors.fit(data_set, labels)\n",
    "    \n",
    "    svm = SVC(gamma='auto')\n",
    "    svm.fit(data_set, labels)\n",
    "    \n",
    "    decision_tree = DecisionTreeClassifier()\n",
    "    decision_tree.fit(data_set, labels)\n",
    "    \n",
    "    naive_bayes = GaussianNB()\n",
    "    naive_bayes.fit(data_set, labels)\n",
    "    \n",
    "    qda = QuadraticDiscriminantAnalysis()\n",
    "    qda.fit(data_set, labels)\n",
    "\n",
    "    return linear_regression, neighbors, svm, decision_tree, naive_bayes, qda"
   ]
  },
  {
   "cell_type": "code",
   "execution_count": 10,
   "metadata": {},
   "outputs": [],
   "source": [
    "def build_stacked_classifier(classifiers):\n",
    "    classifiers_three_list = list(itertools.combinations(classifiers, 3))\n",
    "    best_accuracy = 0\n",
    "    best_classifiers_three = []\n",
    "    best_stacked_classifier = None\n",
    "    \n",
    "    for classifiers_three in classifiers_three_list:\n",
    "        output = []\n",
    "        for classifier in classifiers_three:\n",
    "            output.append(classifier.predict(data_set))\n",
    "        output = np.array(output).reshape((130,3))\n",
    "    \n",
    "        # stacked classifier part:\n",
    "        stacked_classifiers_list = (DecisionTreeClassifier(), KNeighborsClassifier(3), \n",
    "                                    SVC(gamma='auto'))\n",
    "        \n",
    "        for stacked_classifier in stacked_classifiers_list:\n",
    "            #stacked_classifier = None # set here\n",
    "            stacked_classifier.fit(output.reshape((130,3)), labels.reshape((130,)))\n",
    "            stacked_predicted = stacked_classifier.predict(output)\n",
    "            accuracy = accuracy_score(labels, stacked_predicted)\n",
    "            #print(stacked_predicted, labels, accuracy)\n",
    "            if accuracy > best_accuracy:\n",
    "                best_accuracy = accuracy\n",
    "                best_classifiers_three = classifiers_three\n",
    "                best_stacked_classifier = stacked_classifier\n",
    "                \n",
    "    test_set = []\n",
    "    for classifier in best_classifiers_three:\n",
    "        test_set.append(classifier.predict(test_data_set))\n",
    "    test_set = np.array(test_set).reshape((len(test_set[0]),3))\n",
    "    predicted = best_stacked_classifier.predict(test_set)\n",
    "    \n",
    "    print(\"BEST CLASSIFIERS:\")\n",
    "    for classifier in best_classifiers_three:\n",
    "        print(classifier)\n",
    "        \n",
    "    print(\"BEST STACKED CLASSIFIER:\")\n",
    "    print(best_stacked_classifier)\n",
    "    \n",
    "    return predicted"
   ]
  },
  {
   "cell_type": "code",
   "execution_count": 16,
   "metadata": {},
   "outputs": [
    {
     "name": "stdout",
     "output_type": "stream",
     "text": [
      "BEST CLASSIFIERS:\n",
      "LinearRegression(copy_X=True, fit_intercept=True, n_jobs=None,\n",
      "         normalize=False)\n",
      "KNeighborsClassifier(algorithm='auto', leaf_size=30, metric='minkowski',\n",
      "           metric_params=None, n_jobs=None, n_neighbors=3, p=2,\n",
      "           weights='uniform')\n",
      "DecisionTreeClassifier(class_weight=None, criterion='gini', max_depth=None,\n",
      "            max_features=None, max_leaf_nodes=None,\n",
      "            min_impurity_decrease=0.0, min_impurity_split=None,\n",
      "            min_samples_leaf=1, min_samples_split=2,\n",
      "            min_weight_fraction_leaf=0.0, presort=False, random_state=None,\n",
      "            splitter='best')\n",
      "BEST STACKED CLASSIFIER:\n",
      "DecisionTreeClassifier(class_weight=None, criterion='gini', max_depth=None,\n",
      "            max_features=None, max_leaf_nodes=None,\n",
      "            min_impurity_decrease=0.0, min_impurity_split=None,\n",
      "            min_samples_leaf=1, min_samples_split=2,\n",
      "            min_weight_fraction_leaf=0.0, presort=False, random_state=None,\n",
      "            splitter='best')\n",
      "0.7\n"
     ]
    }
   ],
   "source": [
    "classifiers = build_classifiers()\n",
    "predicted = build_stacked_classifier(classifiers)\n",
    "accuracy = accuracy_score(test_labels, predicted)\n",
    "print(accuracy)"
   ]
  },
  {
   "cell_type": "code",
   "execution_count": null,
   "metadata": {},
   "outputs": [],
   "source": []
  }
 ],
 "metadata": {
  "kernelspec": {
   "display_name": "Python 3",
   "language": "python",
   "name": "python3"
  },
  "language_info": {
   "codemirror_mode": {
    "name": "ipython",
    "version": 3
   },
   "file_extension": ".py",
   "mimetype": "text/x-python",
   "name": "python",
   "nbconvert_exporter": "python",
   "pygments_lexer": "ipython3",
   "version": "3.7.3"
  }
 },
 "nbformat": 4,
 "nbformat_minor": 2
}
